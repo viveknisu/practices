{
 "cells": [
  {
   "cell_type": "code",
   "execution_count": 1,
   "metadata": {},
   "outputs": [],
   "source": [
    "import pandas as pd\n",
    "import numpy as np \n",
    "import seaborn as sns"
   ]
  },
  {
   "cell_type": "code",
   "execution_count": 2,
   "metadata": {},
   "outputs": [
    {
     "data": {
      "text/html": [
       "<div>\n",
       "<style scoped>\n",
       "    .dataframe tbody tr th:only-of-type {\n",
       "        vertical-align: middle;\n",
       "    }\n",
       "\n",
       "    .dataframe tbody tr th {\n",
       "        vertical-align: top;\n",
       "    }\n",
       "\n",
       "    .dataframe thead th {\n",
       "        text-align: right;\n",
       "    }\n",
       "</style>\n",
       "<table border=\"1\" class=\"dataframe\">\n",
       "  <thead>\n",
       "    <tr style=\"text-align: right;\">\n",
       "      <th></th>\n",
       "      <th>TV</th>\n",
       "      <th>radio</th>\n",
       "      <th>newspaper</th>\n",
       "      <th>sales</th>\n",
       "    </tr>\n",
       "  </thead>\n",
       "  <tbody>\n",
       "    <tr>\n",
       "      <th>1</th>\n",
       "      <td>230.1</td>\n",
       "      <td>37.8</td>\n",
       "      <td>69.2</td>\n",
       "      <td>22.1</td>\n",
       "    </tr>\n",
       "    <tr>\n",
       "      <th>2</th>\n",
       "      <td>44.5</td>\n",
       "      <td>39.3</td>\n",
       "      <td>45.1</td>\n",
       "      <td>10.4</td>\n",
       "    </tr>\n",
       "    <tr>\n",
       "      <th>3</th>\n",
       "      <td>17.2</td>\n",
       "      <td>45.9</td>\n",
       "      <td>69.3</td>\n",
       "      <td>9.3</td>\n",
       "    </tr>\n",
       "    <tr>\n",
       "      <th>4</th>\n",
       "      <td>151.5</td>\n",
       "      <td>41.3</td>\n",
       "      <td>58.5</td>\n",
       "      <td>18.5</td>\n",
       "    </tr>\n",
       "    <tr>\n",
       "      <th>5</th>\n",
       "      <td>180.8</td>\n",
       "      <td>10.8</td>\n",
       "      <td>58.4</td>\n",
       "      <td>12.9</td>\n",
       "    </tr>\n",
       "    <tr>\n",
       "      <th>...</th>\n",
       "      <td>...</td>\n",
       "      <td>...</td>\n",
       "      <td>...</td>\n",
       "      <td>...</td>\n",
       "    </tr>\n",
       "    <tr>\n",
       "      <th>196</th>\n",
       "      <td>38.2</td>\n",
       "      <td>3.7</td>\n",
       "      <td>13.8</td>\n",
       "      <td>7.6</td>\n",
       "    </tr>\n",
       "    <tr>\n",
       "      <th>197</th>\n",
       "      <td>94.2</td>\n",
       "      <td>4.9</td>\n",
       "      <td>8.1</td>\n",
       "      <td>9.7</td>\n",
       "    </tr>\n",
       "    <tr>\n",
       "      <th>198</th>\n",
       "      <td>177.0</td>\n",
       "      <td>9.3</td>\n",
       "      <td>6.4</td>\n",
       "      <td>12.8</td>\n",
       "    </tr>\n",
       "    <tr>\n",
       "      <th>199</th>\n",
       "      <td>283.6</td>\n",
       "      <td>42.0</td>\n",
       "      <td>66.2</td>\n",
       "      <td>25.5</td>\n",
       "    </tr>\n",
       "    <tr>\n",
       "      <th>200</th>\n",
       "      <td>232.1</td>\n",
       "      <td>8.6</td>\n",
       "      <td>8.7</td>\n",
       "      <td>13.4</td>\n",
       "    </tr>\n",
       "  </tbody>\n",
       "</table>\n",
       "<p>200 rows × 4 columns</p>\n",
       "</div>"
      ],
      "text/plain": [
       "        TV  radio  newspaper  sales\n",
       "1    230.1   37.8       69.2   22.1\n",
       "2     44.5   39.3       45.1   10.4\n",
       "3     17.2   45.9       69.3    9.3\n",
       "4    151.5   41.3       58.5   18.5\n",
       "5    180.8   10.8       58.4   12.9\n",
       "..     ...    ...        ...    ...\n",
       "196   38.2    3.7       13.8    7.6\n",
       "197   94.2    4.9        8.1    9.7\n",
       "198  177.0    9.3        6.4   12.8\n",
       "199  283.6   42.0       66.2   25.5\n",
       "200  232.1    8.6        8.7   13.4\n",
       "\n",
       "[200 rows x 4 columns]"
      ]
     },
     "execution_count": 2,
     "metadata": {},
     "output_type": "execute_result"
    }
   ],
   "source": [
    "df=pd.read_csv('Advertising.csv p-6')\n",
    "df"
   ]
  },
  {
   "cell_type": "code",
   "execution_count": 3,
   "metadata": {},
   "outputs": [
    {
     "data": {
      "text/plain": [
       "TV           0\n",
       "radio        0\n",
       "newspaper    0\n",
       "sales        0\n",
       "dtype: int64"
      ]
     },
     "execution_count": 3,
     "metadata": {},
     "output_type": "execute_result"
    }
   ],
   "source": [
    "df.isnull().sum()"
   ]
  },
  {
   "cell_type": "code",
   "execution_count": 4,
   "metadata": {},
   "outputs": [
    {
     "data": {
      "text/plain": [
       "Index(['TV', 'radio', 'newspaper', 'sales'], dtype='object')"
      ]
     },
     "execution_count": 4,
     "metadata": {},
     "output_type": "execute_result"
    }
   ],
   "source": [
    "df.columns"
   ]
  },
  {
   "cell_type": "code",
   "execution_count": 5,
   "metadata": {},
   "outputs": [
    {
     "data": {
      "text/plain": [
       "<matplotlib.axes._subplots.AxesSubplot at 0x21bdc35ad60>"
      ]
     },
     "execution_count": 5,
     "metadata": {},
     "output_type": "execute_result"
    },
    {
     "data": {
      "image/png": "[encoded data removed]",
      "text/plain": [
       "<Figure size 432x288 with 2 Axes>"
      ]
     },
     "metadata": {
      "needs_background": "light"
     },
     "output_type": "display_data"
    }
   ],
   "source": [
    "sns.heatmap(df.isnull())"
   ]
  },
  {
   "cell_type": "code",
   "execution_count": 6,
   "metadata": {},
   "outputs": [
    {
     "data": {
      "text/html": [
       "<div>\n",
       "<style scoped>\n",
       "    .dataframe tbody tr th:only-of-type {\n",
       "        vertical-align: middle;\n",
       "    }\n",
       "\n",
       "    .dataframe tbody tr th {\n",
       "        vertical-align: top;\n",
       "    }\n",
       "\n",
       "    .dataframe thead th {\n",
       "        text-align: right;\n",
       "    }\n",
       "</style>\n",
       "<table border=\"1\" class=\"dataframe\">\n",
       "  <thead>\n",
       "    <tr style=\"text-align: right;\">\n",
       "      <th></th>\n",
       "      <th>TV</th>\n",
       "      <th>radio</th>\n",
       "      <th>newspaper</th>\n",
       "      <th>sales</th>\n",
       "    </tr>\n",
       "  </thead>\n",
       "  <tbody>\n",
       "    <tr>\n",
       "      <th>count</th>\n",
       "      <td>200.000000</td>\n",
       "      <td>200.000000</td>\n",
       "      <td>200.000000</td>\n",
       "      <td>200.000000</td>\n",
       "    </tr>\n",
       "    <tr>\n",
       "      <th>mean</th>\n",
       "      <td>147.042500</td>\n",
       "      <td>23.264000</td>\n",
       "      <td>30.554000</td>\n",
       "      <td>14.022500</td>\n",
       "    </tr>\n",
       "    <tr>\n",
       "      <th>std</th>\n",
       "      <td>85.854236</td>\n",
       "      <td>14.846809</td>\n",
       "      <td>21.778621</td>\n",
       "      <td>5.217457</td>\n",
       "    </tr>\n",
       "    <tr>\n",
       "      <th>min</th>\n",
       "      <td>0.700000</td>\n",
       "      <td>0.000000</td>\n",
       "      <td>0.300000</td>\n",
       "      <td>1.600000</td>\n",
       "    </tr>\n",
       "    <tr>\n",
       "      <th>25%</th>\n",
       "      <td>74.375000</td>\n",
       "      <td>9.975000</td>\n",
       "      <td>12.750000</td>\n",
       "      <td>10.375000</td>\n",
       "    </tr>\n",
       "    <tr>\n",
       "      <th>50%</th>\n",
       "      <td>149.750000</td>\n",
       "      <td>22.900000</td>\n",
       "      <td>25.750000</td>\n",
       "      <td>12.900000</td>\n",
       "    </tr>\n",
       "    <tr>\n",
       "      <th>75%</th>\n",
       "      <td>218.825000</td>\n",
       "      <td>36.525000</td>\n",
       "      <td>45.100000</td>\n",
       "      <td>17.400000</td>\n",
       "    </tr>\n",
       "    <tr>\n",
       "      <th>max</th>\n",
       "      <td>296.400000</td>\n",
       "      <td>49.600000</td>\n",
       "      <td>114.000000</td>\n",
       "      <td>27.000000</td>\n",
       "    </tr>\n",
       "  </tbody>\n",
       "</table>\n",
       "</div>"
      ],
      "text/plain": [
       "               TV       radio   newspaper       sales\n",
       "count  200.000000  200.000000  200.000000  200.000000\n",
       "mean   147.042500   23.264000   30.554000   14.022500\n",
       "std     85.854236   14.846809   21.778621    5.217457\n",
       "min      0.700000    0.000000    0.300000    1.600000\n",
       "25%     74.375000    9.975000   12.750000   10.375000\n",
       "50%    149.750000   22.900000   25.750000   12.900000\n",
       "75%    218.825000   36.525000   45.100000   17.400000\n",
       "max    296.400000   49.600000  114.000000   27.000000"
      ]
     },
     "execution_count": 6,
     "metadata": {},
     "output_type": "execute_result"
    }
   ],
   "source": [
    "df.describe()"
   ]
  },
  {
   "cell_type": "code",
   "execution_count": 7,
   "metadata": {},
   "outputs": [
    {
     "data": {
      "text/html": [
       "<div>\n",
       "<style scoped>\n",
       "    .dataframe tbody tr th:only-of-type {\n",
       "        vertical-align: middle;\n",
       "    }\n",
       "\n",
       "    .dataframe tbody tr th {\n",
       "        vertical-align: top;\n",
       "    }\n",
       "\n",
       "    .dataframe thead th {\n",
       "        text-align: right;\n",
       "    }\n",
       "</style>\n",
       "<table border=\"1\" class=\"dataframe\">\n",
       "  <thead>\n",
       "    <tr style=\"text-align: right;\">\n",
       "      <th></th>\n",
       "      <th>TV</th>\n",
       "      <th>radio</th>\n",
       "      <th>newspaper</th>\n",
       "      <th>sales</th>\n",
       "    </tr>\n",
       "  </thead>\n",
       "  <tbody>\n",
       "    <tr>\n",
       "      <th>TV</th>\n",
       "      <td>1.000000</td>\n",
       "      <td>0.054809</td>\n",
       "      <td>0.056648</td>\n",
       "      <td>0.782224</td>\n",
       "    </tr>\n",
       "    <tr>\n",
       "      <th>radio</th>\n",
       "      <td>0.054809</td>\n",
       "      <td>1.000000</td>\n",
       "      <td>0.354104</td>\n",
       "      <td>0.576223</td>\n",
       "    </tr>\n",
       "    <tr>\n",
       "      <th>newspaper</th>\n",
       "      <td>0.056648</td>\n",
       "      <td>0.354104</td>\n",
       "      <td>1.000000</td>\n",
       "      <td>0.228299</td>\n",
       "    </tr>\n",
       "    <tr>\n",
       "      <th>sales</th>\n",
       "      <td>0.782224</td>\n",
       "      <td>0.576223</td>\n",
       "      <td>0.228299</td>\n",
       "      <td>1.000000</td>\n",
       "    </tr>\n",
       "  </tbody>\n",
       "</table>\n",
       "</div>"
      ],
      "text/plain": [
       "                 TV     radio  newspaper     sales\n",
       "TV         1.000000  0.054809   0.056648  0.782224\n",
       "radio      0.054809  1.000000   0.354104  0.576223\n",
       "newspaper  0.056648  0.354104   1.000000  0.228299\n",
       "sales      0.782224  0.576223   0.228299  1.000000"
      ]
     },
     "execution_count": 7,
     "metadata": {},
     "output_type": "execute_result"
    }
   ],
   "source": [
    "df.corr()"
   ]
  },
  {
   "cell_type": "code",
   "execution_count": 8,
   "metadata": {},
   "outputs": [
    {
     "data": {
      "text/plain": [
       "<matplotlib.axes._subplots.AxesSubplot at 0x21bdcb4d6d0>"
      ]
     },
     "execution_count": 8,
     "metadata": {},
     "output_type": "execute_result"
    },
    {
     "data": {
      "image/png": "[encoded data removed]",
      "text/plain": [
       "<Figure size 432x288 with 2 Axes>"
      ]
     },
     "metadata": {
      "needs_background": "light"
     },
     "output_type": "display_data"
    }
   ],
   "source": [
    "sns.heatmap(df.corr(),annot=True)"
   ]
  },
  {
   "cell_type": "code",
   "execution_count": 9,
   "metadata": {},
   "outputs": [
    {
     "data": {
      "text/plain": [
       "<seaborn.axisgrid.PairGrid at 0x21bdcc3cb50>"
      ]
     },
     "execution_count": 9,
     "metadata": {},
     "output_type": "execute_result"
    },
    {
     "data": {
      "image/png": "[encoded data removed]",
      "text/plain": [
       "<Figure size 720x720 with 20 Axes>"
      ]
     },
     "metadata": {
      "needs_background": "light"
     },
     "output_type": "display_data"
    }
   ],
   "source": [
    "sns.pairplot(df)"
   ]
  },
  {
   "cell_type": "code",
   "execution_count": 10,
   "metadata": {},
   "outputs": [
    {
     "data": {
      "image/png": "[encoded data removed]",
      "text/plain": [
       "<Figure size 864x2592 with 4 Axes>"
      ]
     },
     "metadata": {
      "needs_background": "light"
     },
     "output_type": "display_data"
    }
   ],
   "source": [
    "import matplotlib.pyplot as plt\n",
    "collist=df.columns\n",
    "nrow=6\n",
    "ncol=12\n",
    "plt.figure(figsize=(ncol,3*ncol))\n",
    "for i in range(0,len(collist)):\n",
    "    plt.subplot(nrow,ncol,i+1)\n",
    "    sns.boxplot(df[collist[i]],color='red',orient='v')\n",
    "    plt.tight_layout()"
   ]
  },
  {
   "cell_type": "code",
   "execution_count": 11,
   "metadata": {},
   "outputs": [
    {
     "data": {
      "text/html": [
       "<div>\n",
       "<style scoped>\n",
       "    .dataframe tbody tr th:only-of-type {\n",
       "        vertical-align: middle;\n",
       "    }\n",
       "\n",
       "    .dataframe tbody tr th {\n",
       "        vertical-align: top;\n",
       "    }\n",
       "\n",
       "    .dataframe thead th {\n",
       "        text-align: right;\n",
       "    }\n",
       "</style>\n",
       "<table border=\"1\" class=\"dataframe\">\n",
       "  <thead>\n",
       "    <tr style=\"text-align: right;\">\n",
       "      <th></th>\n",
       "      <th>TV</th>\n",
       "      <th>radio</th>\n",
       "      <th>newspaper</th>\n",
       "    </tr>\n",
       "  </thead>\n",
       "  <tbody>\n",
       "    <tr>\n",
       "      <th>1</th>\n",
       "      <td>230.1</td>\n",
       "      <td>37.8</td>\n",
       "      <td>69.2</td>\n",
       "    </tr>\n",
       "    <tr>\n",
       "      <th>2</th>\n",
       "      <td>44.5</td>\n",
       "      <td>39.3</td>\n",
       "      <td>45.1</td>\n",
       "    </tr>\n",
       "    <tr>\n",
       "      <th>3</th>\n",
       "      <td>17.2</td>\n",
       "      <td>45.9</td>\n",
       "      <td>69.3</td>\n",
       "    </tr>\n",
       "    <tr>\n",
       "      <th>4</th>\n",
       "      <td>151.5</td>\n",
       "      <td>41.3</td>\n",
       "      <td>58.5</td>\n",
       "    </tr>\n",
       "    <tr>\n",
       "      <th>5</th>\n",
       "      <td>180.8</td>\n",
       "      <td>10.8</td>\n",
       "      <td>58.4</td>\n",
       "    </tr>\n",
       "  </tbody>\n",
       "</table>\n",
       "</div>"
      ],
      "text/plain": [
       "      TV  radio  newspaper\n",
       "1  230.1   37.8       69.2\n",
       "2   44.5   39.3       45.1\n",
       "3   17.2   45.9       69.3\n",
       "4  151.5   41.3       58.5\n",
       "5  180.8   10.8       58.4"
      ]
     },
     "execution_count": 11,
     "metadata": {},
     "output_type": "execute_result"
    }
   ],
   "source": [
    "x=df.iloc[:,:-1]\n",
    "x.head()"
   ]
  },
  {
   "cell_type": "code",
   "execution_count": 12,
   "metadata": {},
   "outputs": [
    {
     "data": {
      "text/plain": [
       "1    22.1\n",
       "2    10.4\n",
       "3     9.3\n",
       "4    18.5\n",
       "5    12.9\n",
       "Name: sales, dtype: float64"
      ]
     },
     "execution_count": 12,
     "metadata": {},
     "output_type": "execute_result"
    }
   ],
   "source": [
    "y=df.iloc[:,-1]\n",
    "y.head()"
   ]
  },
  {
   "cell_type": "code",
   "execution_count": 13,
   "metadata": {},
   "outputs": [
    {
     "data": {
      "text/plain": [
       "(200, 3)"
      ]
     },
     "execution_count": 13,
     "metadata": {},
     "output_type": "execute_result"
    }
   ],
   "source": [
    "x.shape"
   ]
  },
  {
   "cell_type": "code",
   "execution_count": 14,
   "metadata": {},
   "outputs": [],
   "source": [
    "y=y.values.reshape(-1,1)"
   ]
  },
  {
   "cell_type": "code",
   "execution_count": 15,
   "metadata": {},
   "outputs": [
    {
     "data": {
      "text/plain": [
       "(200, 1)"
      ]
     },
     "execution_count": 15,
     "metadata": {},
     "output_type": "execute_result"
    }
   ],
   "source": [
    "y.shape"
   ]
  },
  {
   "cell_type": "code",
   "execution_count": 16,
   "metadata": {},
   "outputs": [],
   "source": [
    "from sklearn.linear_model import LinearRegression\n",
    "from sklearn.metrics import mean_squared_error,mean_absolute_error\n",
    "from sklearn.model_selection import train_test_split"
   ]
  },
  {
   "cell_type": "code",
   "execution_count": 17,
   "metadata": {},
   "outputs": [
    {
     "data": {
      "text/plain": [
       "(        TV  radio  newspaper\n",
       " 80   116.0    7.7       23.1\n",
       " 198  177.0    9.3        6.4\n",
       " 39    43.1   26.7       35.1\n",
       " 25    62.3   12.6       18.3\n",
       " 123  224.0    2.4       15.6\n",
       " ..     ...    ...        ...\n",
       " 107   25.0   11.0       29.7\n",
       " 15   204.1   32.9       46.0\n",
       " 93   217.7   33.5       59.0\n",
       " 180  165.6   10.0       17.6\n",
       " 103  280.2   10.1       21.4\n",
       " \n",
       " [160 rows x 3 columns],\n",
       "         TV  radio  newspaper\n",
       " 96   163.3   31.6       52.9\n",
       " 16   195.4   47.7       52.9\n",
       " 31   292.9   28.3       43.2\n",
       " 159   11.7   36.9       45.2\n",
       " 129  220.3   49.0        3.2\n",
       " 116   75.1   35.0       52.7\n",
       " 70   216.8   43.9       27.2\n",
       " 171   50.0   11.6       18.4\n",
       " 175  222.4    3.4       13.1\n",
       " 46   175.1   22.5       31.5\n",
       " 67    31.5   24.6        2.2\n",
       " 183   56.2    5.7       29.7\n",
       " 166  234.5    3.4       84.8\n",
       " 79     5.4   29.9        9.4\n",
       " 187  139.5    2.1       26.6\n",
       " 178  170.2    7.8       35.2\n",
       " 57     7.3   28.1       41.4\n",
       " 153  197.6   23.3       14.2\n",
       " 83    75.3   20.3       32.5\n",
       " 69   237.4   27.5       11.0\n",
       " 125  229.5   32.3       74.2\n",
       " 17    67.8   36.6      114.0\n",
       " 149   38.0   40.3       11.9\n",
       " 94   250.9   36.5       72.3\n",
       " 66    69.0    9.3        0.9\n",
       " 61    53.5    2.0       21.4\n",
       " 85   213.5   43.0       33.8\n",
       " 68   139.3   14.5       10.2\n",
       " 126   87.2   11.8       25.9\n",
       " 133    8.4   27.2        2.1\n",
       " 10   199.8    2.6       21.2\n",
       " 19    69.2   20.5       18.3\n",
       " 56   198.9   49.4       60.0\n",
       " 76    16.9   43.7       89.4\n",
       " 151  280.7   13.9       37.0\n",
       " 105  238.2   34.3        5.3\n",
       " 136   48.3   47.0        8.5\n",
       " 138  273.7   28.9       59.7\n",
       " 165  117.2   14.7        5.4\n",
       " 77    27.5    1.6       20.7,\n",
       " array([[11. ],\n",
       "        [12.8],\n",
       "        [10.1],\n",
       "        [ 9.7],\n",
       "        [11.6],\n",
       "        [ 7.6],\n",
       "        [10.5],\n",
       "        [14.6],\n",
       "        [10.4],\n",
       "        [12. ],\n",
       "        [14.6],\n",
       "        [11.7],\n",
       "        [ 7.2],\n",
       "        [ 6.6],\n",
       "        [ 9.4],\n",
       "        [11. ],\n",
       "        [10.9],\n",
       "        [25.4],\n",
       "        [ 7.6],\n",
       "        [11.7],\n",
       "        [15. ],\n",
       "        [15.5],\n",
       "        [11.9],\n",
       "        [ 9.2],\n",
       "        [12.8],\n",
       "        [ 6.6],\n",
       "        [20.7],\n",
       "        [ 6.7],\n",
       "        [11.2],\n",
       "        [ 9.5],\n",
       "        [10.7],\n",
       "        [ 8.8],\n",
       "        [14.9],\n",
       "        [17.1],\n",
       "        [15.9],\n",
       "        [15.9],\n",
       "        [15. ],\n",
       "        [20.7],\n",
       "        [11.7],\n",
       "        [21.8],\n",
       "        [ 9.3],\n",
       "        [14.2],\n",
       "        [10.6],\n",
       "        [17.3],\n",
       "        [ 9.9],\n",
       "        [15.2],\n",
       "        [13.3],\n",
       "        [25.4],\n",
       "        [10.8],\n",
       "        [24.2],\n",
       "        [ 5.6],\n",
       "        [19.2],\n",
       "        [23.8],\n",
       "        [17.4],\n",
       "        [17.4],\n",
       "        [17.3],\n",
       "        [12.9],\n",
       "        [11.8],\n",
       "        [15.9],\n",
       "        [15.5],\n",
       "        [12.9],\n",
       "        [ 9.6],\n",
       "        [20.1],\n",
       "        [10.3],\n",
       "        [19.8],\n",
       "        [11.4],\n",
       "        [ 8.6],\n",
       "        [15.7],\n",
       "        [14.1],\n",
       "        [13.2],\n",
       "        [ 8. ],\n",
       "        [22.1],\n",
       "        [25.5],\n",
       "        [19. ],\n",
       "        [18.3],\n",
       "        [15.2],\n",
       "        [18. ],\n",
       "        [ 8.5],\n",
       "        [18. ],\n",
       "        [18.9],\n",
       "        [16.6],\n",
       "        [ 5.3],\n",
       "        [ 3.2],\n",
       "        [15.3],\n",
       "        [12. ],\n",
       "        [15.5],\n",
       "        [17.6],\n",
       "        [25.4],\n",
       "        [12.3],\n",
       "        [21.5],\n",
       "        [17.1],\n",
       "        [23.2],\n",
       "        [11.5],\n",
       "        [15.6],\n",
       "        [12.9],\n",
       "        [ 9.6],\n",
       "        [18.5],\n",
       "        [19.2],\n",
       "        [21.2],\n",
       "        [19.6],\n",
       "        [10.5],\n",
       "        [11.8],\n",
       "        [22.6],\n",
       "        [ 9.7],\n",
       "        [11.8],\n",
       "        [ 9.5],\n",
       "        [13.2],\n",
       "        [13.4],\n",
       "        [ 7.3],\n",
       "        [13.6],\n",
       "        [20.2],\n",
       "        [12.2],\n",
       "        [16.7],\n",
       "        [ 4.8],\n",
       "        [ 9.7],\n",
       "        [18.4],\n",
       "        [14.5],\n",
       "        [12.7],\n",
       "        [24.4],\n",
       "        [ 8.8],\n",
       "        [27. ],\n",
       "        [10.8],\n",
       "        [12.2],\n",
       "        [26.2],\n",
       "        [14. ],\n",
       "        [20.2],\n",
       "        [ 8.7],\n",
       "        [11.4],\n",
       "        [ 9.7],\n",
       "        [23.8],\n",
       "        [14.8],\n",
       "        [12.9],\n",
       "        [12.5],\n",
       "        [13.2],\n",
       "        [14.4],\n",
       "        [ 5.9],\n",
       "        [ 9.7],\n",
       "        [14.7],\n",
       "        [10.1],\n",
       "        [19.6],\n",
       "        [10.4],\n",
       "        [22.6],\n",
       "        [10.1],\n",
       "        [ 1.6],\n",
       "        [11.6],\n",
       "        [14.7],\n",
       "        [17.2],\n",
       "        [12.2],\n",
       "        [16. ],\n",
       "        [17. ],\n",
       "        [ 7. ],\n",
       "        [13.4],\n",
       "        [18. ],\n",
       "        [15.9],\n",
       "        [12.4],\n",
       "        [ 7.2],\n",
       "        [19. ],\n",
       "        [19.4],\n",
       "        [12.6],\n",
       "        [14.8]]),\n",
       " array([[16.9],\n",
       "        [22.4],\n",
       "        [21.4],\n",
       "        [ 7.3],\n",
       "        [24.7],\n",
       "        [12.6],\n",
       "        [22.3],\n",
       "        [ 8.4],\n",
       "        [11.5],\n",
       "        [14.9],\n",
       "        [ 9.5],\n",
       "        [ 8.7],\n",
       "        [11.9],\n",
       "        [ 5.3],\n",
       "        [10.3],\n",
       "        [11.7],\n",
       "        [ 5.5],\n",
       "        [16.6],\n",
       "        [11.3],\n",
       "        [18.9],\n",
       "        [19.7],\n",
       "        [12.5],\n",
       "        [10.9],\n",
       "        [22.2],\n",
       "        [ 9.3],\n",
       "        [ 8.1],\n",
       "        [21.7],\n",
       "        [13.4],\n",
       "        [10.6],\n",
       "        [ 5.7],\n",
       "        [10.6],\n",
       "        [11.3],\n",
       "        [23.7],\n",
       "        [ 8.7],\n",
       "        [16.1],\n",
       "        [20.7],\n",
       "        [11.6],\n",
       "        [20.8],\n",
       "        [11.9],\n",
       "        [ 6.9]]))"
      ]
     },
     "execution_count": 17,
     "metadata": {},
     "output_type": "execute_result"
    }
   ],
   "source": [
    "x_train,x_test,y_train,y_test=train_test_split(x,y,test_size=.20,random_state=42)\n",
    "x_train,x_test,y_train,y_test"
   ]
  },
  {
   "cell_type": "code",
   "execution_count": 18,
   "metadata": {},
   "outputs": [
    {
     "data": {
      "text/plain": [
       "160"
      ]
     },
     "execution_count": 18,
     "metadata": {},
     "output_type": "execute_result"
    }
   ],
   "source": [
    "len(x_train)"
   ]
  },
  {
   "cell_type": "code",
   "execution_count": 19,
   "metadata": {},
   "outputs": [
    {
     "data": {
      "text/plain": [
       "40"
      ]
     },
     "execution_count": 19,
     "metadata": {},
     "output_type": "execute_result"
    }
   ],
   "source": [
    "len(x_test)"
   ]
  },
  {
   "cell_type": "code",
   "execution_count": 20,
   "metadata": {},
   "outputs": [],
   "source": [
    "LR=LinearRegression()"
   ]
  },
  {
   "cell_type": "code",
   "execution_count": 21,
   "metadata": {},
   "outputs": [
    {
     "data": {
      "text/plain": [
       "LinearRegression()"
      ]
     },
     "execution_count": 21,
     "metadata": {},
     "output_type": "execute_result"
    }
   ],
   "source": [
    "LR.fit(x_train,y_train)"
   ]
  },
  {
   "cell_type": "code",
   "execution_count": 22,
   "metadata": {},
   "outputs": [
    {
     "data": {
      "text/plain": [
       "array([2.97906734])"
      ]
     },
     "execution_count": 22,
     "metadata": {},
     "output_type": "execute_result"
    }
   ],
   "source": [
    "LR.intercept_"
   ]
  },
  {
   "cell_type": "code",
   "execution_count": 23,
   "metadata": {},
   "outputs": [
    {
     "name": "stdout",
     "output_type": "stream",
     "text": [
      "predicted result price= [[16.4080242 ]\n",
      " [20.88988209]\n",
      " [21.55384318]\n",
      " [10.60850256]\n",
      " [22.11237326]\n",
      " [13.10559172]\n",
      " [21.05719192]\n",
      " [ 7.46101034]\n",
      " [13.60634581]\n",
      " [15.15506967]\n",
      " [ 9.04831992]\n",
      " [ 6.65328312]\n",
      " [14.34554487]\n",
      " [ 8.90349333]\n",
      " [ 9.68959028]\n",
      " [12.16494386]\n",
      " [ 8.73628397]\n",
      " [16.26507258]\n",
      " [10.27759582]\n",
      " [18.83109103]\n",
      " [19.56036653]\n",
      " [13.25103464]\n",
      " [12.33620695]\n",
      " [21.30695132]\n",
      " [ 7.82740305]\n",
      " [ 5.80957448]\n",
      " [20.75753231]\n",
      " [11.98138077]\n",
      " [ 9.18349576]\n",
      " [ 8.5066991 ]\n",
      " [12.46646769]\n",
      " [10.00337695]\n",
      " [21.3876709 ]\n",
      " [12.24966368]\n",
      " [18.26661538]\n",
      " [20.13766267]\n",
      " [14.05514005]\n",
      " [20.85411186]\n",
      " [11.0174441 ]\n",
      " [ 4.56899622]]\n",
      "actual result price= [[16.9]\n",
      " [22.4]\n",
      " [21.4]\n",
      " [ 7.3]\n",
      " [24.7]\n",
      " [12.6]\n",
      " [22.3]\n",
      " [ 8.4]\n",
      " [11.5]\n",
      " [14.9]\n",
      " [ 9.5]\n",
      " [ 8.7]\n",
      " [11.9]\n",
      " [ 5.3]\n",
      " [10.3]\n",
      " [11.7]\n",
      " [ 5.5]\n",
      " [16.6]\n",
      " [11.3]\n",
      " [18.9]\n",
      " [19.7]\n",
      " [12.5]\n",
      " [10.9]\n",
      " [22.2]\n",
      " [ 9.3]\n",
      " [ 8.1]\n",
      " [21.7]\n",
      " [13.4]\n",
      " [10.6]\n",
      " [ 5.7]\n",
      " [10.6]\n",
      " [11.3]\n",
      " [23.7]\n",
      " [ 8.7]\n",
      " [16.1]\n",
      " [20.7]\n",
      " [11.6]\n",
      " [20.8]\n",
      " [11.9]\n",
      " [ 6.9]]\n"
     ]
    }
   ],
   "source": [
    "pred=LR.predict(x_test)\n",
    "print('predicted result price=',pred)\n",
    "print('actual result price=',y_test)"
   ]
  },
  {
   "cell_type": "code",
   "execution_count": 24,
   "metadata": {},
   "outputs": [
    {
     "name": "stdout",
     "output_type": "stream",
     "text": [
      "0.899438024100912\n"
     ]
    }
   ],
   "source": [
    "from sklearn.metrics import r2_score\n",
    "print(r2_score(y_test,pred))"
   ]
  },
  {
   "cell_type": "code",
   "execution_count": null,
   "metadata": {},
   "outputs": [],
   "source": []
  }
 ],
 "metadata": {
  "kernelspec": {
   "display_name": "Python 3",
   "language": "python",
   "name": "python3"
  },
  "language_info": {
   "codemirror_mode": {
    "name": "ipython",
    "version": 3
   },
   "file_extension": ".py",
   "mimetype": "text/x-python",
   "name": "python",
   "nbconvert_exporter": "python",
   "pygments_lexer": "ipython3",
   "version": "3.8.3"
  }
 },
 "nbformat": 4,
 "nbformat_minor": 4
}
